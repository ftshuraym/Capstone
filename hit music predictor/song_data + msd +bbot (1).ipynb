{
 "cells": [
  {
   "cell_type": "markdown",
   "metadata": {},
   "source": [
    "# import & read"
   ]
  },
  {
   "cell_type": "code",
   "execution_count": 1,
   "metadata": {
    "ExecuteTime": {
     "end_time": "2019-12-18T17:46:35.615663Z",
     "start_time": "2019-12-18T17:46:19.032067Z"
    }
   },
   "outputs": [],
   "source": [
    "import os\n",
    "import sys\n",
    "import glob\n",
    "import sqlite3\n",
    "import numpy as np\n",
    "import pandas as pd\n",
    "import seaborn as sns\n",
    "import matplotlib.pyplot as plt\n",
    "\n",
    "%matplotlib inline"
   ]
  },
  {
   "cell_type": "code",
   "execution_count": 2,
   "metadata": {
    "ExecuteTime": {
     "end_time": "2019-12-17T14:59:15.671630Z",
     "start_time": "2019-12-17T14:59:15.662321Z"
    }
   },
   "outputs": [],
   "source": [
    "\n",
    "def get_songs_df_from_csv(filename):\n",
    "    return pd.read_csv(filename,index_col=0)   \n",
    "\n",
    "def clean(df):\n",
    "    df = df.fillna(0)\n",
    "    #Drop rows with year = 0\n",
    "    df = df.drop(df[df.year == 0].index)\n",
    "    #Drop rows with song hotness = 0\n",
    "    df = df.drop(df[df.song_hotttnesss==0].index)\n",
    "#---------- i think we need to understand this code more \n",
    "    indices_to_keep = ~df.isin([np.nan, np.inf, -np.inf]).any(1)\n",
    "    return df[indices_to_keep]\n",
    "\n",
    "def drop_specific_cols(df):\n",
    "    cols = ['analysis_sample_rate','danceability','genre','energy','artist_7digitalid',\n",
    "            'audio_md5','analyzer_version','artist_latitude','artist_location','artist_longitude',\n",
    "            'artist_playmeid','track_7digitalid','release_7digitalid','key_confidence','mode_confidence',\n",
    "            'time_signature_confidence']\n",
    "#     \n",
    "#---------- i think we need to understand this code more \n",
    "    df = df.drop(cols,axis=1)\n",
    "#---------- i think we need to understand this code more \n",
    "    idx_cols = 'idx_'\n",
    "#---------- i think we need to understand this code more \n",
    "    return df[df.columns.drop(list(df.filter(regex=idx_cols)))]"
   ]
  },
  {
   "cell_type": "code",
   "execution_count": 4,
   "metadata": {},
   "outputs": [],
   "source": [
    "#GETTING DATA\n",
    "songs_df = get_songs_df_from_csv('../assets/msd_summary.csv')\n",
    "\n",
    "#During the csv making process, I was merging different dfs into one df and df index info was lost. Let's reset the indices\n",
    "songs_df.reset_index(drop=True,inplace=True)\n",
    "\n",
    "# print \"Number of Rows: %d\"%len(songs_df)\n",
    "# print \"Number of Columns: %d\"%len(songs_df.columns)\n"
   ]
  },
  {
   "cell_type": "code",
   "execution_count": null,
   "metadata": {
    "ExecuteTime": {
     "end_time": "2019-12-17T14:59:45.274977Z",
     "start_time": "2019-12-17T14:59:37.020179Z"
    }
   },
   "outputs": [],
   "source": [
    "df = clean(songs_df)\n",
    "df = drop_specific_cols(df)"
   ]
  },
  {
   "cell_type": "code",
   "execution_count": null,
   "metadata": {
    "ExecuteTime": {
     "end_time": "2019-12-17T14:59:46.747622Z",
     "start_time": "2019-12-17T14:59:46.645711Z"
    }
   },
   "outputs": [],
   "source": [
    "dff =pd.read_csv('../assets/song_data.csv')"
   ]
  },
  {
   "cell_type": "code",
   "execution_count": null,
   "metadata": {
    "ExecuteTime": {
     "end_time": "2019-12-18T17:46:35.830516Z",
     "start_time": "2019-12-18T17:46:35.631198Z"
    }
   },
   "outputs": [],
   "source": [
    "billboard = pd.read_csv(\"HotSongsBillBoard.csv\")"
   ]
  },
  {
   "cell_type": "code",
   "execution_count": null,
   "metadata": {
    "ExecuteTime": {
     "end_time": "2019-12-18T17:46:35.933677Z",
     "start_time": "2019-12-18T17:46:35.914771Z"
    }
   },
   "outputs": [],
   "source": [
    "billboard.head()"
   ]
  },
  {
   "cell_type": "markdown",
   "metadata": {},
   "source": [
    "# DF "
   ]
  },
  {
   "cell_type": "code",
   "execution_count": null,
   "metadata": {
    "ExecuteTime": {
     "end_time": "2019-12-12T21:31:14.562717Z",
     "start_time": "2019-12-12T21:31:14.557718Z"
    },
    "scrolled": true
   },
   "outputs": [],
   "source": [
    "df.columns"
   ]
  },
  {
   "cell_type": "code",
   "execution_count": null,
   "metadata": {
    "ExecuteTime": {
     "end_time": "2019-12-14T14:45:05.000356Z",
     "start_time": "2019-12-14T14:45:04.563264Z"
    }
   },
   "outputs": [],
   "source": [
    "df.drop(columns=['track_id','artist_id','artist_mbid','song_id'],inplace=True)"
   ]
  },
  {
   "cell_type": "code",
   "execution_count": null,
   "metadata": {
    "ExecuteTime": {
     "end_time": "2019-12-14T14:45:06.522063Z",
     "start_time": "2019-12-14T14:45:06.101602Z"
    }
   },
   "outputs": [],
   "source": [
    "df.drop_duplicates('title',keep='first',inplace=True)"
   ]
  },
  {
   "cell_type": "code",
   "execution_count": null,
   "metadata": {
    "ExecuteTime": {
     "end_time": "2019-12-14T11:31:18.467766Z",
     "start_time": "2019-12-14T11:31:18.463767Z"
    }
   },
   "outputs": [],
   "source": [
    "# df.drop_duplicates('title',keep='first',inplace=True)"
   ]
  },
  {
   "cell_type": "code",
   "execution_count": null,
   "metadata": {
    "ExecuteTime": {
     "end_time": "2019-12-14T11:31:18.840647Z",
     "start_time": "2019-12-14T11:31:18.835648Z"
    }
   },
   "outputs": [],
   "source": [
    "df.shape"
   ]
  },
  {
   "cell_type": "code",
   "execution_count": null,
   "metadata": {
    "ExecuteTime": {
     "end_time": "2019-12-14T11:31:19.507468Z",
     "start_time": "2019-12-14T11:31:19.449486Z"
    },
    "scrolled": false
   },
   "outputs": [],
   "source": [
    "df.info()"
   ]
  },
  {
   "cell_type": "code",
   "execution_count": null,
   "metadata": {
    "ExecuteTime": {
     "end_time": "2019-12-14T11:31:22.344982Z",
     "start_time": "2019-12-14T11:31:22.292999Z"
    },
    "scrolled": false
   },
   "outputs": [],
   "source": [
    "df.isnull().sum()"
   ]
  },
  {
   "cell_type": "code",
   "execution_count": null,
   "metadata": {
    "ExecuteTime": {
     "end_time": "2019-12-17T14:59:49.841976Z",
     "start_time": "2019-12-17T14:59:49.832359Z"
    }
   },
   "outputs": [],
   "source": [
    "#نعرف الاغاني الناجحه بالفنكشن هذا لانه بيروح لداتا البيل بورد وبيقارن الاسم بداتا حقتنا\n",
    "bb_tracks = list(billboard.track)\n",
    "\n",
    "def find_target(row):\n",
    "    lst = bb_tracks\n",
    "    if row['title'] in lst:\n",
    "        return 1\n",
    "    else:\n",
    "        return 0"
   ]
  },
  {
   "cell_type": "code",
   "execution_count": null,
   "metadata": {
    "ExecuteTime": {
     "end_time": "2019-12-17T15:02:14.243749Z",
     "start_time": "2019-12-17T14:59:51.381845Z"
    }
   },
   "outputs": [],
   "source": [
    "#بسوي كولم جديد واعطي الاغنية المتواجده بكل الداتا واحد والي بس موجودة بالداتا حقتي صفر \n",
    "\n",
    "df['bbhot'] = df.apply(find_target, axis=1)"
   ]
  },
  {
   "cell_type": "code",
   "execution_count": null,
   "metadata": {
    "ExecuteTime": {
     "end_time": "2019-12-14T11:32:49.175150Z",
     "start_time": "2019-12-14T11:32:49.165154Z"
    }
   },
   "outputs": [],
   "source": [
    "df['bbhot'].value_counts()"
   ]
  },
  {
   "cell_type": "code",
   "execution_count": null,
   "metadata": {
    "ExecuteTime": {
     "end_time": "2019-12-12T20:44:41.529159Z",
     "start_time": "2019-12-12T20:44:41.512165Z"
    },
    "scrolled": true
   },
   "outputs": [],
   "source": [
    "df.head(10)"
   ]
  },
  {
   "cell_type": "code",
   "execution_count": null,
   "metadata": {
    "ExecuteTime": {
     "end_time": "2019-12-12T21:16:41.471649Z",
     "start_time": "2019-12-12T21:16:41.420665Z"
    }
   },
   "outputs": [],
   "source": [
    "\n",
    "len(df.artist_name.unique())"
   ]
  },
  {
   "cell_type": "code",
   "execution_count": null,
   "metadata": {
    "ExecuteTime": {
     "end_time": "2019-12-12T21:16:12.913642Z",
     "start_time": "2019-12-12T21:16:12.857660Z"
    }
   },
   "outputs": [],
   "source": [
    "list(df['artist_name'].unique())"
   ]
  },
  {
   "cell_type": "code",
   "execution_count": null,
   "metadata": {
    "ExecuteTime": {
     "end_time": "2019-12-12T20:45:58.570747Z",
     "start_time": "2019-12-12T20:45:52.907555Z"
    }
   },
   "outputs": [],
   "source": [
    "df.to_csv(\"df-BillBoard.csv\", encoding=\"utf-8\", index = False)"
   ]
  },
  {
   "cell_type": "code",
   "execution_count": null,
   "metadata": {},
   "outputs": [],
   "source": []
  },
  {
   "cell_type": "markdown",
   "metadata": {},
   "source": [
    "# visualisation df"
   ]
  },
  {
   "cell_type": "code",
   "execution_count": null,
   "metadata": {
    "ExecuteTime": {
     "end_time": "2019-12-14T14:47:06.583113Z",
     "start_time": "2019-12-14T14:47:01.043223Z"
    },
    "scrolled": false
   },
   "outputs": [],
   "source": [
    "fig, ax = plt.subplots(nrows = 1, ncols = 2, figsize = (18, 6))\n",
    "\n",
    "sns.heatmap(df.isnull(), yticklabels=False, ax = ax[0], cbar=False, cmap='viridis')\n",
    "ax[0].set_title('Train data')"
   ]
  },
  {
   "cell_type": "code",
   "execution_count": null,
   "metadata": {},
   "outputs": [],
   "source": [
    "df.hist(bins=20,figsize=(20,15))\n",
    "plt.show()"
   ]
  },
  {
   "cell_type": "code",
   "execution_count": null,
   "metadata": {
    "ExecuteTime": {
     "end_time": "2019-12-18T13:50:54.429398Z",
     "start_time": "2019-12-18T13:50:54.424099Z"
    },
    "scrolled": true
   },
   "outputs": [],
   "source": [
    "# hit = sns.barplot(x=\"bbhot\",y=\"bbhot\",data=df)\n",
    "# hit = bbhot.set_ylabel(\"Survival Probability\")"
   ]
  },
  {
   "cell_type": "code",
   "execution_count": null,
   "metadata": {
    "ExecuteTime": {
     "end_time": "2019-12-18T13:51:11.487393Z",
     "start_time": "2019-12-18T13:51:11.483414Z"
    }
   },
   "outputs": [],
   "source": [
    "# import numpy as np\n",
    "# import pandas as pd\n",
    "# import seaborn as sns\n",
    "# sns.set(style=\"whitegrid\")\n",
    "\n",
    "\n",
    "# dates = df.year\n",
    "# data = pd.DataFrame( dates, columns=[\"tempo\", \"duration\", \"loudness\", \"song_hotttnesss\"])\n",
    "\n",
    "\n",
    "# sns.lineplot(data=df, palette=\"tab10\", linewidth=2.5)"
   ]
  },
  {
   "cell_type": "code",
   "execution_count": null,
   "metadata": {
    "ExecuteTime": {
     "end_time": "2019-12-12T20:46:43.500965Z",
     "start_time": "2019-12-12T20:46:42.789193Z"
    }
   },
   "outputs": [],
   "source": [
    "agg_df = df.groupby(df.year).mean().reset_index()\n",
    "\n",
    "\n",
    "agg_df.plot(x='year',y='tempo')\n",
    "\n",
    "agg_df.plot(x='year',y='duration')\n",
    "\n",
    "agg_df.plot(x='year',y='loudness')\n",
    "\n",
    "agg_df.plot(x='year',y='song_hotttnesss')\n"
   ]
  },
  {
   "cell_type": "code",
   "execution_count": null,
   "metadata": {
    "ExecuteTime": {
     "end_time": "2019-12-12T20:47:02.531891Z",
     "start_time": "2019-12-12T20:47:02.258978Z"
    },
    "scrolled": false
   },
   "outputs": [],
   "source": [
    "sns.distplot(df[\"song_hotttnesss\"])"
   ]
  },
  {
   "cell_type": "code",
   "execution_count": null,
   "metadata": {},
   "outputs": [],
   "source": [
    "# !pip install squarify"
   ]
  },
  {
   "cell_type": "code",
   "execution_count": null,
   "metadata": {
    "ExecuteTime": {
     "end_time": "2019-12-12T21:00:43.563224Z",
     "start_time": "2019-12-12T21:00:43.491247Z"
    },
    "scrolled": true
   },
   "outputs": [],
   "source": [
    "#هنا ابي اعرف اول 50 مغني من حيث عدد الاغاني \n",
    "top50 = df.artist_name.value_counts().head(50)\n",
    "top50"
   ]
  },
  {
   "cell_type": "code",
   "execution_count": null,
   "metadata": {
    "ExecuteTime": {
     "end_time": "2019-12-12T21:00:45.406635Z",
     "start_time": "2019-12-12T21:00:45.168712Z"
    }
   },
   "outputs": [],
   "source": [
    "import squarify\n",
    "#هنا ابي اعرف اول 50 مغني من حيث عدد الاغاني \n",
    "plt.figure(figsize=(14,8))\n",
    "squarify.plot(sizes=top50, label=df[\"artist_name\"], alpha=.8 )\n",
    "plt.axis('off')\n",
    "plt.show()"
   ]
  },
  {
   "cell_type": "code",
   "execution_count": null,
   "metadata": {
    "ExecuteTime": {
     "end_time": "2019-12-12T21:08:52.342358Z",
     "start_time": "2019-12-12T21:08:52.295373Z"
    }
   },
   "outputs": [],
   "source": [
    "# ابي اعرف اكثر المغنين شعبية "
   ]
  },
  {
   "cell_type": "code",
   "execution_count": null,
   "metadata": {
    "ExecuteTime": {
     "end_time": "2019-12-12T21:21:33.058203Z",
     "start_time": "2019-12-12T21:21:32.899255Z"
    },
    "scrolled": false
   },
   "outputs": [],
   "source": [
    "#Calculating the number of songs by each of the artists\n",
    "print(df.groupby('artist_name').size())\n",
    "popular_artist=df.groupby('artist_name').size()\n",
    "print('popular_artist',popular_artist)\n",
    "artist_list=df['artist_name'].values.tolist()"
   ]
  },
  {
   "cell_type": "code",
   "execution_count": null,
   "metadata": {
    "ExecuteTime": {
     "end_time": "2019-12-12T21:57:39.753726Z",
     "start_time": "2019-12-12T21:57:39.749727Z"
    }
   },
   "outputs": [],
   "source": [
    "# !pip install plotly"
   ]
  },
  {
   "cell_type": "code",
   "execution_count": null,
   "metadata": {
    "ExecuteTime": {
     "end_time": "2019-12-12T21:39:09.355253Z",
     "start_time": "2019-12-12T21:39:07.702265Z"
    },
    "scrolled": true
   },
   "outputs": [],
   "source": [
    "#ابي اشوف كم عدد الاغاني في الهوت \n",
    "\n",
    "\n",
    "\n",
    "import plotly.express as px\n",
    "data_canada = px.data.gapminder().query(\"country == 'Canada'\")\n",
    "fig = px.bar(df, x='bbhot', y='bbhot')\n",
    "fig.show()\n"
   ]
  },
  {
   "cell_type": "code",
   "execution_count": null,
   "metadata": {
    "ExecuteTime": {
     "end_time": "2019-12-12T21:54:13.272088Z",
     "start_time": "2019-12-12T21:54:13.267089Z"
    }
   },
   "outputs": [],
   "source": []
  },
  {
   "cell_type": "code",
   "execution_count": null,
   "metadata": {
    "ExecuteTime": {
     "end_time": "2019-12-12T21:56:13.231637Z",
     "start_time": "2019-12-12T21:56:13.095681Z"
    },
    "scrolled": true
   },
   "outputs": [],
   "source": [
    "import numpy as np\n",
    "import seaborn as sns\n",
    "import matplotlib.pyplot as plt\n",
    "\n",
    "# f, (ax1, ax2, ax3) = plt.subplots(3, 1, figsize=(7, 5), sharex=True)\n",
    "\n",
    "sns.set(style=\"white\")\n",
    "\n",
    "# Generate some sequential data\n",
    "x = df['bbhot'].value_counts()\n",
    "y1 = df['bbhot'].value_counts()\n",
    "\n",
    "fig =plt.figure(figsize=(7,7))\n",
    "sns.barplot(data=df,x=x, y=y1, palette=\"rocket\")\n",
    "ax1.axhline(0, color=\"k\", clip_on=False)\n",
    "ax1.set_ylabel(\"Sequential\")"
   ]
  },
  {
   "cell_type": "code",
   "execution_count": null,
   "metadata": {
    "ExecuteTime": {
     "end_time": "2019-12-12T21:59:01.940119Z",
     "start_time": "2019-12-12T21:59:01.924124Z"
    }
   },
   "outputs": [],
   "source": []
  },
  {
   "cell_type": "code",
   "execution_count": null,
   "metadata": {},
   "outputs": [],
   "source": []
  },
  {
   "cell_type": "code",
   "execution_count": null,
   "metadata": {
    "ExecuteTime": {
     "end_time": "2019-12-12T22:00:56.178340Z",
     "start_time": "2019-12-12T22:00:54.675820Z"
    },
    "scrolled": false
   },
   "outputs": [],
   "source": [
    "fig = plt.figure(figsize=(8, 8))\n",
    "sns.regplot(x='song_hotttnesss',\n",
    "            y='duration', data=df, fit_reg=False,scatter_kws={'s':10}, color='darkred')\n",
    "\n",
    "plt.title('title', fontdict= {'family': 'serif',\n",
    "        'color':  'darkred',\n",
    "        'weight': 'normal',\n",
    "        'size': 12,\n",
    "        })\n"
   ]
  },
  {
   "cell_type": "code",
   "execution_count": null,
   "metadata": {
    "ExecuteTime": {
     "end_time": "2019-12-12T22:16:11.875283Z",
     "start_time": "2019-12-12T22:16:11.872284Z"
    }
   },
   "outputs": [],
   "source": [
    "# !pip install WordCloud"
   ]
  },
  {
   "cell_type": "code",
   "execution_count": null,
   "metadata": {
    "ExecuteTime": {
     "end_time": "2019-12-12T22:16:16.726605Z",
     "start_time": "2019-12-12T22:16:16.724606Z"
    },
    "scrolled": false
   },
   "outputs": [],
   "source": [
    "# string=str(df.artist_name.head(10))\n",
    "# plt.figure(figsize=(12,8))\n",
    "# wordcloud = WordCloud(stopwords=STOPWORDS,\n",
    "#                       background_color='white',\n",
    "#                       width=1000,\n",
    "#                       height=1000).generate(string)\n",
    "# plt.imshow(wordcloud,interpolation='bilinear')\n",
    "# plt.axis(\"off\")\n",
    "# plt.show()"
   ]
  },
  {
   "cell_type": "code",
   "execution_count": null,
   "metadata": {
    "ExecuteTime": {
     "end_time": "2019-12-12T22:19:47.894030Z",
     "start_time": "2019-12-12T22:19:47.811056Z"
    }
   },
   "outputs": [],
   "source": []
  },
  {
   "cell_type": "code",
   "execution_count": null,
   "metadata": {
    "ExecuteTime": {
     "end_time": "2019-12-12T22:21:36.823729Z",
     "start_time": "2019-12-12T22:21:36.806734Z"
    }
   },
   "outputs": [],
   "source": [
    "df.head()"
   ]
  },
  {
   "cell_type": "code",
   "execution_count": null,
   "metadata": {
    "ExecuteTime": {
     "end_time": "2019-12-12T22:08:07.587051Z",
     "start_time": "2019-12-12T22:07:49.430846Z"
    },
    "scrolled": false
   },
   "outputs": [],
   "source": [
    "\n",
    "\n",
    "# Analysing the relationship between energy and loudness\n",
    "fig=plt.subplots(figsize=(10,10))\n",
    "sns.regplot(x='artist_familiarity',y='artist_hotttnesss',data=df,color='black')\n",
    "\n"
   ]
  },
  {
   "cell_type": "code",
   "execution_count": null,
   "metadata": {
    "ExecuteTime": {
     "end_time": "2019-12-12T22:27:05.558929Z",
     "start_time": "2019-12-12T22:22:19.278734Z"
    },
    "scrolled": false
   },
   "outputs": [],
   "source": [
    "fig=plt.subplots(figsize=(10,10))\n",
    "plt.title('Dependence between tempo and popularity')\n",
    "sns.regplot(x='tempo', y='song_hotttnesss',\n",
    "            ci=None, data=df)\n",
    "sns.kdeplot(df.tempo,df.song_hotttnesss)"
   ]
  }
 ],
 "metadata": {
  "kernelspec": {
   "display_name": "Python 3",
   "language": "python",
   "name": "python3"
  },
  "language_info": {
   "codemirror_mode": {
    "name": "ipython",
    "version": 3
   },
   "file_extension": ".py",
   "mimetype": "text/x-python",
   "name": "python",
   "nbconvert_exporter": "python",
   "pygments_lexer": "ipython3",
   "version": "3.7.3"
  },
  "toc": {
   "base_numbering": 1,
   "nav_menu": {},
   "number_sections": true,
   "sideBar": true,
   "skip_h1_title": false,
   "title_cell": "Table of Contents",
   "title_sidebar": "Contents",
   "toc_cell": false,
   "toc_position": {},
   "toc_section_display": true,
   "toc_window_display": false
  },
  "varInspector": {
   "cols": {
    "lenName": 16,
    "lenType": 16,
    "lenVar": 40
   },
   "kernels_config": {
    "python": {
     "delete_cmd_postfix": "",
     "delete_cmd_prefix": "del ",
     "library": "var_list.py",
     "varRefreshCmd": "print(var_dic_list())"
    },
    "r": {
     "delete_cmd_postfix": ") ",
     "delete_cmd_prefix": "rm(",
     "library": "var_list.r",
     "varRefreshCmd": "cat(var_dic_list()) "
    }
   },
   "types_to_exclude": [
    "module",
    "function",
    "builtin_function_or_method",
    "instance",
    "_Feature"
   ],
   "window_display": false
  }
 },
 "nbformat": 4,
 "nbformat_minor": 2
}
